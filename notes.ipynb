{
 "cells": [
  {
   "cell_type": "code",
   "execution_count": 1,
   "metadata": {
    "tags": []
   },
   "outputs": [],
   "source": [
    "# this is an extension function of interables in python\n",
    "# it is used to iterate over a list of items\n",
    "# and select items that match a given lambda function\n",
    "# int returns a new list of items that match the lambda function\n",
    "# if no items match the lambda function, an empty list is returned\n",
    "# \n",
    "# if an error occurs, a TypeError is raised\n",
    "\n",
    "from dataclasses import dataclass\n",
    "\n",
    "@dataclass\n",
    "class item:\n",
    "    iid: int\n",
    "    name: str\n",
    "    value: float\n",
    "    quantity: int\n",
    "    description: str = None\n",
    "\n",
    "\n",
    "def item_list():\n",
    "    return [\n",
    "        item(1, \"Potion\", 5.00, 10, \"Heals you for 10 hp\"),\n",
    "        item(2, \"Super Potion\", 10.00, 5, \"Heals you for 20 hp\"),\n",
    "        item(3, \"Hyper Potion\", 15.00, 2, \"Heals you for 50 hp\"),\n",
    "        item(4, \"Max Potion\", 20.00, 1, \"Heals you for all hp\"),\n",
    "        item(5, \"Pokeball\", 2.00, 20, \"Catch a pokemon\"),\n",
    "        item(6, \"Greatball\", 5.00, 10, \"Catch a pokemon\"),\n",
    "        item(7, \"Ultraball\", 10.00, 5, \"Catch a pokemon\"),\n",
    "        item(8, \"Masterball\", 50.00, 1, \"Catch a pokemon\"),\n",
    "        item(9, \"Revive\", 10.00, 5, \"Revive a fainted pokemon\"),\n",
    "        item(10, \"Max Revive\", 20.00, 2, \"Revive a fainted pokemon\"),\n",
    "        item(11, \"Razz Berry\", 0.50, 20, \"Increase chance of catching a pokemon\"),\n",
    "        item(12, \"Nanab Berry\", 0.50, 20, \"Decrease chance of being caught by a pokemon\"),\n",
    "        item(13, \"Pinap Berry\", 0.50, 20, \"Increase amount of candy received when catching a pokemon\"),\n",
    "        item(14, \"Sun Stone\", 20.00, 1, \"Evolve certain pokemon\"),\n",
    "        item(15, \"Kings Rock\", 20.00, 1, \"Evolve certain pokemon\"),\n",
    "        item(16, \"Metal Coat\", 20.00, 1, \"Evolve certain pokemon\"),\n",
    "        item(17, \"Dragon Scale\", 20.00, 1, \"Evolve certain pokemon\"),\n",
    "        item(18, \"Up-grade\", 20.00, 1, \"Evolve certain pokemon\")\n",
    "    ]\n",
    "\n",
    "\n",
    "# This is a lambda function that returns a list of items that match the given criteria\n",
    "\n",
    "\n",
    "def get_item(criteria: lambda item: item.name.endsWith(\"Potion\")):\n",
    "    return [item for item in item_list() if criteria(item)]\n",
    "\n"
   ]
  },
  {
   "cell_type": "code",
   "execution_count": 2,
   "metadata": {
    "tags": []
   },
   "outputs": [
    {
     "data": {
      "text/plain": [
       "[item(iid=5, name='Pokeball', value=2.0, quantity=20, description='Catch a pokemon'),\n",
       " item(iid=6, name='Greatball', value=5.0, quantity=10, description='Catch a pokemon'),\n",
       " item(iid=7, name='Ultraball', value=10.0, quantity=5, description='Catch a pokemon'),\n",
       " item(iid=8, name='Masterball', value=50.0, quantity=1, description='Catch a pokemon')]"
      ]
     },
     "execution_count": 2,
     "metadata": {},
     "output_type": "execute_result"
    }
   ],
   "source": [
    "get_item(lambda item: item.name.endswith(\"ball\"))"
   ]
  },
  {
   "cell_type": "markdown",
   "metadata": {},
   "source": []
  },
  {
   "cell_type": "markdown",
   "metadata": {},
   "source": []
  },
  {
   "cell_type": "markdown",
   "metadata": {},
   "source": []
  }
 ],
 "metadata": {
  "kernelspec": {
   "display_name": "Python 3 (ipykernel)",
   "language": "python",
   "name": "python3"
  },
  "language_info": {
   "codemirror_mode": {
    "name": "ipython",
    "version": 3
   },
   "file_extension": ".py",
   "mimetype": "text/x-python",
   "name": "python",
   "nbconvert_exporter": "python",
   "pygments_lexer": "ipython3",
   "version": "3.10.4"
  }
 },
 "nbformat": 4,
 "nbformat_minor": 4
}

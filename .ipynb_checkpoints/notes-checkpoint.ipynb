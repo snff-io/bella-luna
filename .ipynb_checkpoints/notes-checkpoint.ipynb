{
 "cells": [
  {
   "cell_type": "code",
   "execution_count": 5,
   "metadata": {},
   "outputs": [],
   "source": [
    "# this is an extension function of interables in python\n",
    "# it is used to iterate over a list of items\n",
    "# and select items that match a given lambda function\n",
    "# int returns a new list of items that match the lambda function\n",
    "# if no items match the lambda function, an empty list is returned\n",
    "# \n",
    "# if an error occurs, a TypeError is raised\n",
    "\n",
    "from dataclasses import dataclass\n",
    "\n",
    "@dataclass\n",
    "class item:\n",
    "    iid: int\n",
    "    name: str\n",
    "    value: float\n",
    "    quantity: int\n",
    "    description: str = None\n",
    "\n",
    "\n",
    "def item_list():\n",
    "    return [\n",
    "        item(1, \"Potion\", 5.00, 10, \"Heals you for 10 hp\"),\n",
    "        item(2, \"Super Potion\", 10.00, 5, \"Heals you for 20 hp\"),\n",
    "        item(3, \"Hyper Potion\", 15.00, 2, \"Heals you for 50 hp\"),\n",
    "        item(4, \"Max Potion\", 20.00, 1, \"Heals you for all hp\"),\n",
    "        item(5, \"Pokeball\", 2.00, 20, \"Catch a pokemon\"),\n",
    "        item(6, \"Greatball\", 5.00, 10, \"Catch a pokemon\"),\n",
    "        item(7, \"Ultraball\", 10.00, 5, \"Catch a pokemon\"),\n",
    "        item(8, \"Masterball\", 50.00, 1, \"Catch a pokemon\"),\n",
    "        item(9, \"Revive\", 10.00, 5, \"Revive a fainted pokemon\"),\n",
    "        item(10, \"Max Revive\", 20.00, 2, \"Revive a fainted pokemon\"),\n",
    "        item(11, \"Razz Berry\", 0.50, 20, \"Increase chance of catching a pokemon\"),\n",
    "        item(12, \"Nanab Berry\", 0.50, 20, \"Decrease chance of being caught by a pokemon\"),\n",
    "        item(13, \"Pinap Berry\", 0.50, 20, \"Increase amount of candy received when catching a pokemon\"),\n",
    "        item(14, \"Sun Stone\", 20.00, 1, \"Evolve certain pokemon\"),\n",
    "        item(15, \"Kings Rock\", 20.00, 1, \"Evolve certain pokemon\"),\n",
    "        item(16, \"Metal Coat\", 20.00, 1, \"Evolve certain pokemon\"),\n",
    "        item(17, \"Dragon Scale\", 20.00, 1, \"Evolve certain pokemon\"),\n",
    "        item(18, \"Up-grade\", 20.00, 1, \"Evolve certain pokemon\")\n",
    "    ]\n",
    "\n",
    "\n",
    "# This is a lambda function that returns a list of items that match the given criteria\n",
    "\n",
    "\n",
    "def get_item(criteria: lambda name: name.endsWith(\"Potion\")):\n",
    "    return [item for item in item_list() if criteria()]\n",
    "\n"
   ]
  },
  {
   "cell_type": "code",
   "execution_count": 7,
   "metadata": {},
   "outputs": [
    {
     "name": "stdout",
     "output_type": "stream",
     "text": [
      "Unexpected exception formatting exception. Falling back to standard exception\n"
     ]
    },
    {
     "name": "stderr",
     "output_type": "stream",
     "text": [
      "Traceback (most recent call last):\n",
      "  File \"/home/codespace/.local/lib/python3.10/site-packages/IPython/core/interactiveshell.py\", line 3460, in run_code\n",
      "    exec(code_obj, self.user_global_ns, self.user_ns)\n",
      "  File \"/tmp/ipykernel_2116/585104499.py\", line 1, in <module>\n",
      "    get_item(lambda name: name.endswith(\"ball\"))\n",
      "  File \"/workspaces/bella-luna/service/items.py\", line 41, in get_item\n",
      "TypeError: 'function' object is not iterable\n",
      "\n",
      "During handling of the above exception, another exception occurred:\n",
      "\n",
      "Traceback (most recent call last):\n",
      "  File \"/home/codespace/.local/lib/python3.10/site-packages/IPython/core/interactiveshell.py\", line 2057, in showtraceback\n",
      "    stb = self.InteractiveTB.structured_traceback(\n",
      "  File \"/home/codespace/.local/lib/python3.10/site-packages/IPython/core/ultratb.py\", line 1288, in structured_traceback\n",
      "    return FormattedTB.structured_traceback(\n",
      "  File \"/home/codespace/.local/lib/python3.10/site-packages/IPython/core/ultratb.py\", line 1177, in structured_traceback\n",
      "    return VerboseTB.structured_traceback(\n",
      "  File \"/home/codespace/.local/lib/python3.10/site-packages/IPython/core/ultratb.py\", line 1030, in structured_traceback\n",
      "    formatted_exception = self.format_exception_as_a_whole(etype, evalue, etb, number_of_lines_of_context,\n",
      "  File \"/home/codespace/.local/lib/python3.10/site-packages/IPython/core/ultratb.py\", line 960, in format_exception_as_a_whole\n",
      "    frames.append(self.format_record(record))\n",
      "  File \"/home/codespace/.local/lib/python3.10/site-packages/IPython/core/ultratb.py\", line 870, in format_record\n",
      "    frame_info.lines, Colors, self.has_colors, lvals\n",
      "  File \"/home/codespace/.local/lib/python3.10/site-packages/IPython/core/ultratb.py\", line 704, in lines\n",
      "    return self._sd.lines\n",
      "  File \"/home/codespace/.local/lib/python3.10/site-packages/stack_data/utils.py\", line 144, in cached_property_wrapper\n",
      "    value = obj.__dict__[self.func.__name__] = self.func(obj)\n",
      "  File \"/home/codespace/.local/lib/python3.10/site-packages/stack_data/core.py\", line 734, in lines\n",
      "    pieces = self.included_pieces\n",
      "  File \"/home/codespace/.local/lib/python3.10/site-packages/stack_data/utils.py\", line 144, in cached_property_wrapper\n",
      "    value = obj.__dict__[self.func.__name__] = self.func(obj)\n",
      "  File \"/home/codespace/.local/lib/python3.10/site-packages/stack_data/core.py\", line 681, in included_pieces\n",
      "    pos = scope_pieces.index(self.executing_piece)\n",
      "  File \"/home/codespace/.local/lib/python3.10/site-packages/stack_data/utils.py\", line 144, in cached_property_wrapper\n",
      "    value = obj.__dict__[self.func.__name__] = self.func(obj)\n",
      "  File \"/home/codespace/.local/lib/python3.10/site-packages/stack_data/core.py\", line 660, in executing_piece\n",
      "    return only(\n",
      "  File \"/home/codespace/.local/lib/python3.10/site-packages/executing/executing.py\", line 190, in only\n",
      "    raise NotOneValueFound('Expected one value, found 0')\n",
      "executing.executing.NotOneValueFound: Expected one value, found 0\n"
     ]
    }
   ],
   "source": [
    "get_item(lambda name: name.endswith(\"ball\"))"
   ]
  },
  {
   "cell_type": "markdown",
   "metadata": {},
   "source": []
  },
  {
   "cell_type": "markdown",
   "metadata": {},
   "source": []
  },
  {
   "cell_type": "markdown",
   "metadata": {},
   "source": []
  }
 ],
 "metadata": {
  "kernelspec": {
   "display_name": "Python 3",
   "language": "python",
   "name": "python3"
  },
  "language_info": {
   "codemirror_mode": {
    "name": "ipython",
    "version": 3
   },
   "file_extension": ".py",
   "mimetype": "text/x-python",
   "name": "python",
   "nbconvert_exporter": "python",
   "pygments_lexer": "ipython3",
   "version": "3.10.4"
  },
  "orig_nbformat": 4
 },
 "nbformat": 4,
 "nbformat_minor": 2
}
